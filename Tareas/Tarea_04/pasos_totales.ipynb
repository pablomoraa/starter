{
  "nbformat": 4,
  "nbformat_minor": 0,
  "metadata": {
    "colab": {
      "provenance": []
    },
    "kernelspec": {
      "name": "python3",
      "display_name": "Python 3"
    },
    "language_info": {
      "name": "python"
    }
  },
  "cells": [
    {
      "cell_type": "code",
      "execution_count": null,
      "metadata": {
        "id": "7smdfdWPr0WS"
      },
      "outputs": [],
      "source": []
    },
    {
      "cell_type": "markdown",
      "source": [
        "**Este es un bloque de texto**\n",
        "# Título"
      ],
      "metadata": {
        "id": "klIUz-w4s8Ut"
      }
    },
    {
      "cell_type": "markdown",
      "source": [],
      "metadata": {
        "id": "hfK51yJUs7pG"
      }
    },
    {
      "cell_type": "code",
      "source": [
        "# este es un comentario\n",
        "este_es_un_gato = \"hola\"\n",
        "\n",
        "\n",
        "gato = \"soy un perro\"\n",
        "print(gato)\n",
        "\n",
        "print(\"no soy un gato\")\n",
        "print(10)\n",
        "\n",
        "suma_dos_numeros = 10 + 6\n",
        "print(suma_dos_numeros)\n",
        "\n",
        "print(\"la suma de 10+6 es \"+ str(suma_dos_numeros))"
      ],
      "metadata": {
        "colab": {
          "base_uri": "https://localhost:8080/"
        },
        "id": "ArKB_hxnuIDR",
        "outputId": "198b976d-8927-4fdf-8438-daa44a4831d8"
      },
      "execution_count": null,
      "outputs": [
        {
          "output_type": "stream",
          "name": "stdout",
          "text": [
            "soy un perro\n",
            "no soy un gato\n",
            "10\n",
            "16\n",
            "la suma de 10+6 es 16\n"
          ]
        }
      ]
    },
    {
      "cell_type": "code",
      "source": [
        "print (\"Hola, mundo\")"
      ],
      "metadata": {
        "colab": {
          "base_uri": "https://localhost:8080/"
        },
        "id": "AFWqKfNYJ5k_",
        "outputId": "49323cb6-14d6-4e94-a867-a99a605d6c2e"
      },
      "execution_count": null,
      "outputs": [
        {
          "output_type": "stream",
          "name": "stdout",
          "text": [
            "Hola, mundo\n"
          ]
        }
      ]
    },
    {
      "cell_type": "code",
      "source": [
        "azul = \"Hola, mundo\"\n",
        "print(azul)"
      ],
      "metadata": {
        "colab": {
          "base_uri": "https://localhost:8080/"
        },
        "id": "VIlCbACwKJYk",
        "outputId": "e19e19a9-0132-4079-e3d2-a6c30c745a14"
      },
      "execution_count": null,
      "outputs": [
        {
          "output_type": "stream",
          "name": "stdout",
          "text": [
            "Hola, mundo\n"
          ]
        }
      ]
    },
    {
      "cell_type": "code",
      "source": [
        "numero = 100 #int -> integer, entero\n",
        "numero_no_entero = 6,5 # float\n",
        "string = \"hola\" # str -> texto\n",
        "valor_verdad = True # verdadero\n",
        "valor_falso = False # falso - Boolean, bool\n",
        "lista = {10,5,\"hola\"}\n",
        "lista.add(7)\n",
        "print(lista)\n",
        "diccionario = {'clave': 10, 'clave_2':'gato'}\n",
        "\n",
        "print(diccionario ['clave_2'])"
      ],
      "metadata": {
        "colab": {
          "base_uri": "https://localhost:8080/"
        },
        "id": "N2ZDVe52KO2-",
        "outputId": "a6db8153-437c-465f-a562-7d81693ad090"
      },
      "execution_count": null,
      "outputs": [
        {
          "output_type": "stream",
          "name": "stdout",
          "text": [
            "{10, 5, 'hola', 7}\n",
            "gato\n"
          ]
        }
      ]
    },
    {
      "cell_type": "code",
      "source": [
        "# operadores\n",
        "print (1+1)\n",
        "print(2+2)\n",
        "print(2*2)\n",
        "print(10/2)\n",
        "print(1 // 2)\n",
        "print(2 % 3)\n",
        "print(3 % 3)\n",
        "print(6 % 3)"
      ],
      "metadata": {
        "colab": {
          "base_uri": "https://localhost:8080/"
        },
        "id": "ykWVZszKQPIo",
        "outputId": "0f6981f0-dc5a-4899-fff4-5dcde864b013"
      },
      "execution_count": null,
      "outputs": [
        {
          "output_type": "stream",
          "name": "stdout",
          "text": [
            "2\n",
            "4\n",
            "4\n",
            "5.0\n",
            "0\n",
            "2\n",
            "0\n",
            "0\n"
          ]
        }
      ]
    },
    {
      "cell_type": "code",
      "source": [
        "#cuando quiero decir igual a algo, tengo que usar dos signos iguales.\n",
        "#cuando ocupo signo de exclamacion hacia abajo y signo igual, eso significa que es (diferente a...) en vez de (igual a...)\n",
        "a = 1\n",
        "b = 2\n",
        "\n",
        "if a > b:\n",
        "  print('a es mayor que b')\n",
        "elif a < b:\n",
        "  print('a es menor que b')\n",
        "else:\n",
        "  print('a es igual a b')"
      ],
      "metadata": {
        "colab": {
          "base_uri": "https://localhost:8080/"
        },
        "id": "1mSL4-EQTiFh",
        "outputId": "fc6f9e43-7f1d-4c1c-d6b2-7c7a0ebc4ef7"
      },
      "execution_count": null,
      "outputs": [
        {
          "output_type": "stream",
          "name": "stdout",
          "text": [
            "a es menor que b\n"
          ]
        }
      ]
    },
    {
      "cell_type": "code",
      "source": [
        "#Loops /ciclos\n",
        "for i in range(10): # [0, 1, 2, 3, 4, 5, 6, 7, 8, 9]\n",
        "  print(\"Hola, soy \" + str(i))"
      ],
      "metadata": {
        "colab": {
          "base_uri": "https://localhost:8080/"
        },
        "id": "KDi3k-wCbQyy",
        "outputId": "2f8298b5-6719-4421-c854-a1e77fadf3f3"
      },
      "execution_count": null,
      "outputs": [
        {
          "output_type": "stream",
          "name": "stdout",
          "text": [
            "Hola, soy 0\n",
            "Hola, soy 1\n",
            "Hola, soy 2\n",
            "Hola, soy 3\n",
            "Hola, soy 4\n",
            "Hola, soy 5\n",
            "Hola, soy 6\n",
            "Hola, soy 7\n",
            "Hola, soy 8\n",
            "Hola, soy 9\n"
          ]
        }
      ]
    },
    {
      "cell_type": "code",
      "source": [
        "gato = 0\n",
        "\n",
        "while(gato < 10):\n",
        "  print(\"soy gato chico\")\n",
        "  gato = gato + 1\n",
        "\n",
        "  if(gato==5):\n",
        "    break\n",
        "\n",
        "  if(gato==3):\n",
        "    print(\"gato no soy tan chico\")"
      ],
      "metadata": {
        "colab": {
          "base_uri": "https://localhost:8080/"
        },
        "id": "p_KIbBdTc2E9",
        "outputId": "01d24d70-564b-4266-9d78-47f5ea720592"
      },
      "execution_count": null,
      "outputs": [
        {
          "output_type": "stream",
          "name": "stdout",
          "text": [
            "soy gato chico\n",
            "soy gato chico\n",
            "soy gato chico\n",
            "gato no soy tan chico\n",
            "soy gato chico\n",
            "soy gato chico\n"
          ]
        }
      ]
    },
    {
      "cell_type": "code",
      "source": [
        "#Calcular la nota final de un estudiante teniendo en cuenta que:\n",
        "# la primera nota vale 30% de la nota final\n",
        "# la segunda nota vale 30% de la nota final\n",
        "# y el trabajo final vale 40% de la nota final\n",
        "\n",
        "\n",
        "nota_1 = float(input(\"Ingresa la n1\"))\n",
        "nota_2 = float(input(\"Ingresa la n2\"))\n",
        "nota_3 = float(input(\"Ingresa la n3\"))\n",
        "ponderacion = (nota_1 * 0.3) + nota_2 * 0.3 + nota_3 * 0.4\n",
        "\n",
        "print(ponderacion)\n",
        "\n",
        "if(ponderacion>=4):\n",
        "  print(\"APROBASTE!\")\n",
        "elif(ponderacion<4):\n",
        "  print(\"REPROBASTE\")\n",
        "else:\n",
        "  print(\"ERROR\")"
      ],
      "metadata": {
        "colab": {
          "base_uri": "https://localhost:8080/"
        },
        "id": "jiXPZ_0Yf3Zf",
        "outputId": "5b1dc992-7878-47c0-e001-c9902d70789d"
      },
      "execution_count": null,
      "outputs": [
        {
          "output_type": "stream",
          "name": "stdout",
          "text": [
            "Ingresa la n17.0\n",
            "Ingresa la n22.2\n",
            "Ingresa la n33.35\n",
            "4.1000000000000005\n",
            "APROBASTE!\n"
          ]
        }
      ]
    },
    {
      "cell_type": "markdown",
      "source": [
        "1. Hacer un programa que imprima loa números del 1 al 100, en phyton sería:\n"
      ],
      "metadata": {
        "id": "ND5J_pjyjAos"
      }
    },
    {
      "cell_type": "code",
      "source": [
        "\n",
        "for x in range(100):\n",
        "  print(x+1)"
      ],
      "metadata": {
        "colab": {
          "base_uri": "https://localhost:8080/"
        },
        "id": "qufVHEf1jOIO",
        "outputId": "5460afec-f8a4-4854-cc9e-771e7d34a5bf"
      },
      "execution_count": null,
      "outputs": [
        {
          "output_type": "stream",
          "name": "stdout",
          "text": [
            "1\n",
            "2\n",
            "3\n",
            "4\n",
            "5\n",
            "6\n",
            "7\n",
            "8\n",
            "9\n",
            "10\n",
            "11\n",
            "12\n",
            "13\n",
            "14\n",
            "15\n",
            "16\n",
            "17\n",
            "18\n",
            "19\n",
            "20\n",
            "21\n",
            "22\n",
            "23\n",
            "24\n",
            "25\n",
            "26\n",
            "27\n",
            "28\n",
            "29\n",
            "30\n",
            "31\n",
            "32\n",
            "33\n",
            "34\n",
            "35\n",
            "36\n",
            "37\n",
            "38\n",
            "39\n",
            "40\n",
            "41\n",
            "42\n",
            "43\n",
            "44\n",
            "45\n",
            "46\n",
            "47\n",
            "48\n",
            "49\n",
            "50\n",
            "51\n",
            "52\n",
            "53\n",
            "54\n",
            "55\n",
            "56\n",
            "57\n",
            "58\n",
            "59\n",
            "60\n",
            "61\n",
            "62\n",
            "63\n",
            "64\n",
            "65\n",
            "66\n",
            "67\n",
            "68\n",
            "69\n",
            "70\n",
            "71\n",
            "72\n",
            "73\n",
            "74\n",
            "75\n",
            "76\n",
            "77\n",
            "78\n",
            "79\n",
            "80\n",
            "81\n",
            "82\n",
            "83\n",
            "84\n",
            "85\n",
            "86\n",
            "87\n",
            "88\n",
            "89\n",
            "90\n",
            "91\n",
            "92\n",
            "93\n",
            "94\n",
            "95\n",
            "96\n",
            "97\n",
            "98\n",
            "99\n",
            "100\n"
          ]
        }
      ]
    },
    {
      "cell_type": "markdown",
      "source": [
        "2. Hacer un programa que imprima los números del 1 al 100 que sean divisibles entre 3 (con resto 0)\n"
      ],
      "metadata": {
        "id": "yFozKC6ZkyGG"
      }
    },
    {
      "cell_type": "code",
      "source": [
        "# un igual es para designar un valor y dos iguales es comparar un valor\n",
        "for x in range(100):\n",
        "  if (x+1) % 3 == 0:\n",
        "    print(x+1)"
      ],
      "metadata": {
        "colab": {
          "base_uri": "https://localhost:8080/"
        },
        "id": "y1Pb-q7wk8FO",
        "outputId": "31737305-e2b2-4b73-968c-1b53a08e22e8"
      },
      "execution_count": null,
      "outputs": [
        {
          "output_type": "stream",
          "name": "stdout",
          "text": [
            "3\n",
            "6\n",
            "9\n",
            "12\n",
            "15\n",
            "18\n",
            "21\n",
            "24\n",
            "27\n",
            "30\n",
            "33\n",
            "36\n",
            "39\n",
            "42\n",
            "45\n",
            "48\n",
            "51\n",
            "54\n",
            "57\n",
            "60\n",
            "63\n",
            "66\n",
            "69\n",
            "72\n",
            "75\n",
            "78\n",
            "81\n",
            "84\n",
            "87\n",
            "90\n",
            "93\n",
            "96\n",
            "99\n"
          ]
        }
      ]
    },
    {
      "cell_type": "markdown",
      "source": [
        "3. tarea\n"
      ],
      "metadata": {
        "id": "hWJgpjIOnZAv"
      }
    },
    {
      "cell_type": "code",
      "source": [
        "numero_1 = int(input(\"Ingresa un número\"))\n",
        "numero_2 = 5\n",
        "suma = numero_1 + numero_2\n",
        "resultado = \"\"\n",
        "\n",
        "if(suma<100):\n",
        "  resultado = \"menor a 100\"\n",
        "elif(suma>=100 and suma<150):\n",
        "  resultado= \"mayor a 100\"\n",
        "elif(suma>=150):\n",
        "  resultado = \"mayor a 150\"\n",
        "\n",
        "print(resultado)"
      ],
      "metadata": {
        "id": "mGQQz4e7nb5C"
      },
      "execution_count": null,
      "outputs": []
    },
    {
      "cell_type": "markdown",
      "source": [
        "Generar un programa que combine variables, tipos de datos y una condicional en Python (hacer una función que evalúe si el usuario es mayor de edad y si le gusta la programación, que envíe diferentes textos según la respuesta del usuario)"
      ],
      "metadata": {
        "id": "MfB8YAYaqv8O"
      }
    },
    {
      "cell_type": "code",
      "source": [
        "edad = int(input(\"Ingresa tu edad\"))\n",
        "gusta_programar = (input(\"¿Te gusta programar? (Sí/No)\"))\n",
        "resultado = \"\"\n",
        "\n",
        "if(edad<18 and gusta_programar==\"Sí\"):\n",
        "  resultado = \"Eres menor de edad y te gusta programar\"\n",
        "elif(edad<18 and gusta_programar==\"No\"):\n",
        "  resultado = \"Eres menor de edad y no te gusta programar\"\n",
        "elif(edad==18 and gusta_programar==\"Sí\"):\n",
        "  resultado = \"Eres mayor de edad y te gusta programar\"\n",
        "elif(edad==18 and gusta_programar==\"No\"):\n",
        "  resultado = \"Eres mayor de edad y no te gusta programar\"\n",
        "elif(edad>18 and gusta_programar==\"Sí\"):\n",
        "  resultado = \"Eres mayor de edad y te gusta programar\"\n",
        "elif(edad>18 and gusta_programar==\"No\"):\n",
        "  resultado = \"Eres mayor de edad y no te gusta programar\"\n",
        "\n",
        "print(resultado)"
      ],
      "metadata": {
        "id": "9Y9xcGj5Uxw1",
        "colab": {
          "base_uri": "https://localhost:8080/"
        },
        "outputId": "01dfefac-7850-47bc-81e3-5a00d7333373"
      },
      "execution_count": 3,
      "outputs": [
        {
          "output_type": "stream",
          "name": "stdout",
          "text": [
            "Ingresa tu edad13\n",
            "¿Te gusta programar? (Sí/No)Sí\n",
            "Eres menor de edad y te gusta programar\n"
          ]
        }
      ]
    }
  ]
}